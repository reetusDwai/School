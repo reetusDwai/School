{
 "cells": [
  {
   "cell_type": "markdown",
   "id": "7e342014-1304-4554-a8f4-8436945a5d11",
   "metadata": {},
   "source": [
    "# Selection statements\n",
    "\n",
    "There are three different selection statements that you can use in python. All of the selections statements use indentation to indicate what will be executed. "
   ]
  },
  {
   "cell_type": "markdown",
   "id": "2084d147-6335-4e0e-93db-551e9fbc1726",
   "metadata": {},
   "source": [
    "# Conditionals\n",
    "\n",
    "The condition is any boolean value or boolean expression.\n",
    "\n",
    "If the condition is true then it will execute the code in its body.\n",
    "\n",
    "You can use comparision operators and logical operators for boolean expressions.\n",
    "\n",
    "### Comparison operators\n",
    "- `==` Equal to\n",
    "- `!=` Not equal to\n",
    "- `>` Greater than\n",
    "- `>=` Greater than or equal to\n",
    "- `<` Less than\n",
    "- `<=` Less than or equal to\n",
    "\n",
    "### Logical operators\n",
    "- `a and b` True if `a` is true and `b` is true\n",
    "- `a or b` True if either `a` is true or `b` is true\n",
    "- `not a` True if `a` is False and False if `a` is true"
   ]
  },
  {
   "cell_type": "markdown",
   "id": "865d2b0a-f09a-4eae-abf4-920371df839e",
   "metadata": {},
   "source": [
    "# If statement\n",
    "\n",
    "```python\n",
    "if condition:\n",
    "    # execute code\n",
    "```"
   ]
  },
  {
   "cell_type": "markdown",
   "id": "101958e7-1da9-4094-9b86-33d8ae4b1e4a",
   "metadata": {},
   "source": [
    "# Elif statement\n",
    "\n",
    "```python\n",
    "if condition1:\n",
    "    # execute code\n",
    "elif condition2:\n",
    "    #execute code\n",
    "```"
   ]
  },
  {
   "cell_type": "markdown",
   "id": "5bdd9129-d2cb-4e6b-8c7f-1dcd67660b34",
   "metadata": {},
   "source": [
    "# Else statement\n",
    "\n",
    "```python\n",
    "if condition:\n",
    "    #execute code\n",
    "else:\n",
    "    #execute code\n",
    "```"
   ]
  },
  {
   "cell_type": "markdown",
   "id": "17fc2d90-6e4e-4bca-b61a-6adaef883010",
   "metadata": {},
   "source": [
    "# Example\n",
    "\n",
    "If you have a menu and you want the user to select one of 4 options you can use an if-elif-else statement"
   ]
  },
  {
   "cell_type": "code",
   "execution_count": 1,
   "id": "e18d46ac-9665-404d-bbb9-8df44a047133",
   "metadata": {},
   "outputs": [
    {
     "name": "stdin",
     "output_type": "stream",
     "text": [
      "Select menu <0,1,2,3> \n",
      " 4\n"
     ]
    },
    {
     "name": "stdout",
     "output_type": "stream",
     "text": [
      "No menu selected\n"
     ]
    }
   ],
   "source": [
    "selection = int(input(\"Select menu <0,1,2,3> \\n\"))\n",
    "\n",
    "if selection == 0:\n",
    "    print(\"Menu 0\")\n",
    "elif selection == 1:\n",
    "    print(\"Menu 1\")\n",
    "elif selection == 2:\n",
    "    print(\"Menu 2\")\n",
    "elif selection == 3:\n",
    "    print(\"Menu 3\")\n",
    "else:\n",
    "    print(\"No menu selected\")"
   ]
  },
  {
   "cell_type": "markdown",
   "id": "b1e3d16b-8ea0-4c21-b607-5f7194c67f97",
   "metadata": {},
   "source": [
    "# Now you try\n",
    "\n",
    "Imagine you are working at a ticket booth and are told to charge customers based on their age and student status. \n",
    "\n",
    "You are given two variables `age` and `student_status` and we want you to print the correct ticket price. The base ticket price is `$10`.\n",
    "\n",
    "\n",
    "- If the customer is younger than 12 or older than 55 then their ticket is only $1\n",
    "- If the cutomer is a student between the ages of 12 and 55, they get 20% off the orginal ticket price"
   ]
  }
 ],
 "metadata": {
  "kernelspec": {
   "display_name": "Python 3 (ipykernel)",
   "language": "python",
   "name": "python3"
  },
  "language_info": {
   "codemirror_mode": {
    "name": "ipython",
    "version": 3
   },
   "file_extension": ".py",
   "mimetype": "text/x-python",
   "name": "python",
   "nbconvert_exporter": "python",
   "pygments_lexer": "ipython3",
   "version": "3.13.1"
  }
 },
 "nbformat": 4,
 "nbformat_minor": 5
}
