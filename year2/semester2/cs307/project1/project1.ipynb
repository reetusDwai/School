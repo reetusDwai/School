{
 "cells": [
  {
   "cell_type": "markdown",
   "id": "1a7dee02-40ae-4c94-aa14-b92e8fdb4df5",
   "metadata": {},
   "source": [
    "# TODO\n",
    "- [ ] Make the classifier\n",
    "- [ ] Make markdown explanations\n",
    "- [ ] Make 3 test cases\n",
    "- [ ] Make test .txt file"
   ]
  },
  {
   "cell_type": "code",
   "execution_count": null,
   "id": "f31c03ae-ecac-4e99-8027-9528c272a024",
   "metadata": {},
   "outputs": [],
   "source": []
  },
  {
   "cell_type": "code",
   "execution_count": null,
   "id": "eacef2ae-54df-4c03-a0c5-c9aa34718653",
   "metadata": {},
   "outputs": [],
   "source": []
  }
 ],
 "metadata": {
  "kernelspec": {
   "display_name": "Python 3 (ipykernel)",
   "language": "python",
   "name": "python3"
  },
  "language_info": {
   "codemirror_mode": {
    "name": "ipython",
    "version": 3
   },
   "file_extension": ".py",
   "mimetype": "text/x-python",
   "name": "python",
   "nbconvert_exporter": "python",
   "pygments_lexer": "ipython3",
   "version": "3.13.1"
  }
 },
 "nbformat": 4,
 "nbformat_minor": 5
}
