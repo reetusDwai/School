{
 "cells": [
  {
   "cell_type": "code",
   "execution_count": 7,
   "id": "faf7960c-661e-41ed-bc94-64e26555c7d7",
   "metadata": {},
   "outputs": [],
   "source": [
    "country_names = [\"Mongolia\", \"Iceland\", \"United States\", \"Canada\"]\n",
    "populations = [\"3.5 M\" , \"0.4 M\", \"350 M\", \"40 M\"]\n",
    "countries = {}"
   ]
  },
  {
   "cell_type": "code",
   "execution_count": 11,
   "id": "e34723c7-313a-4fac-abde-d9a44b375ee6",
   "metadata": {},
   "outputs": [
    {
     "name": "stdout",
     "output_type": "stream",
     "text": [
      "{'Mongolia': '3.5 M', 'Iceland': '0.4 M', 'United States': '350 M'}\n"
     ]
    }
   ],
   "source": [
    "for key, val in zip(country_names, populations):\n",
    "    countries[key] = val\n",
    "print(countries)"
   ]
  },
  {
   "cell_type": "markdown",
   "id": "ba9e3b4e-6f90-46ef-8501-e3b8df2ed2a7",
   "metadata": {},
   "source": [
    "# Zip\n",
    "- `zip` is a python function that combines multiple iteratables into a single iterator of tuples\n",
    "- It combines all of the elements at the same index of all the iterables\n",
    "- When using iterables of different lengths, it will only combine up to the shortest iterable\n",
    "- You can use the tuple cast to print it in a readable way\n",
    "\n",
    "Example below"
   ]
  },
  {
   "cell_type": "code",
   "execution_count": 13,
   "id": "dd33c73b-baf9-4b0c-bff1-7e755312cc6f",
   "metadata": {},
   "outputs": [
    {
     "name": "stdout",
     "output_type": "stream",
     "text": [
      "(('a', 1, 'x'), ('b', 2, 'y'), ('c', 3, 'z'))\n"
     ]
    }
   ],
   "source": [
    "arr1 = [\"a\", \"b\", \"c\", \"d\"]\n",
    "arr2 = [1, 2, 3, 4, 5]\n",
    "arr3 = (\"x\", \"y\", \"z\")\n",
    "\n",
    "iterable = zip(arr1, arr2, arr3)\n",
    "print(tuple(iterable))"
   ]
  }
 ],
 "metadata": {
  "kernelspec": {
   "display_name": "Python 3 (ipykernel)",
   "language": "python",
   "name": "python3"
  },
  "language_info": {
   "codemirror_mode": {
    "name": "ipython",
    "version": 3
   },
   "file_extension": ".py",
   "mimetype": "text/x-python",
   "name": "python",
   "nbconvert_exporter": "python",
   "pygments_lexer": "ipython3",
   "version": "3.13.1"
  }
 },
 "nbformat": 4,
 "nbformat_minor": 5
}
