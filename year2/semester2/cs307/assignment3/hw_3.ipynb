{
 "cells": [
  {
   "cell_type": "code",
   "execution_count": 1,
   "id": "962d4b2f-2c3e-443a-874f-acdc5bccc8f4",
   "metadata": {},
   "outputs": [],
   "source": [
    "# Read the \"islands.csv\" file\n",
    "# and save the data in a list of lists\n",
    "data = []\n",
    "\n",
    "with open(\"islands.csv\", \"r\") as islands:\n",
    "    for line in islands:\n",
    "        temp_line = line.strip().split(\",\")\n",
    "        temp_line[1] = int(temp_line[1])\n",
    "        data.append(temp_line)"
   ]
  },
  {
   "cell_type": "code",
   "execution_count": 2,
   "id": "73d60ad6-4382-4191-891f-97360e046d8c",
   "metadata": {},
   "outputs": [
    {
     "name": "stdout",
     "output_type": "stream",
     "text": [
      "[['Africa', 11506],\n",
      " ['Antarctica', 5500],\n",
      " ['Asia', 16988],\n",
      " ['Australia', 2968],\n",
      " ['Axel Heiberg', 16],\n",
      " ['Baffin', 184],\n",
      " ['Banks', 23],\n",
      " ['Borneo', 280],\n",
      " ['Britain', 84],\n",
      " ['Celebes', 73],\n",
      " ['Celon', 25],\n",
      " ['Cuba', 43],\n",
      " ['Devon', 21],\n",
      " ['Ellesmere', 82],\n",
      " ['Europe', 3745],\n",
      " ['Greenland', 840],\n",
      " ['Hainan', 13],\n",
      " ['Hispaniola', 30],\n",
      " ['Hokkaido', 30],\n",
      " ['Honshu', 89],\n",
      " ['Iceland', 40],\n",
      " ['Ireland', 33],\n",
      " ['Java', 49],\n",
      " ['Kyushu', 14],\n",
      " ['Luzon', 42],\n",
      " ['Madagascar', 227],\n",
      " ['Melville', 16],\n",
      " ['Mindanao', 36],\n",
      " ['Moluccas', 29],\n",
      " ['New Britain', 15],\n",
      " ['New Guinea', 306],\n",
      " ['New Zealand (N)', 44],\n",
      " ['New Zealand (S)', 58],\n",
      " ['Newfoundland', 43],\n",
      " ['North America', 9390],\n",
      " ['Novaya Zemlya', 32],\n",
      " ['Prince of Wales', 13],\n",
      " ['Sakhalin', 29],\n",
      " ['South America', 6795],\n",
      " ['Southampton', 16],\n",
      " ['Spitsbergen', 15],\n",
      " ['Sumatra', 183],\n",
      " ['Taiwan', 14],\n",
      " ['Tasmania', 26],\n",
      " ['Tierra del Fuego', 19],\n",
      " ['Timor', 13],\n",
      " ['Vancouver', 12],\n",
      " ['Victoria', 82]]\n"
     ]
    }
   ],
   "source": [
    "import pprint\n",
    "\n",
    "# print the list\n",
    "pprint.pprint(data)"
   ]
  },
  {
   "cell_type": "code",
   "execution_count": 3,
   "id": "ff21e224-357e-480b-ab83-11f5c51580f3",
   "metadata": {},
   "outputs": [
    {
     "name": "stdout",
     "output_type": "stream",
     "text": [
      "Vancouver has the smallest landmass of 12\n",
      "Victoria has the largest landmass of 82\n",
      "The average landmass size is 1252.7291666666667\n"
     ]
    }
   ],
   "source": [
    "# Print the descriptive analysis for the landmass(min, max, average)\n",
    "\n",
    "min_landmass = 100000\n",
    "max_landmass = 0\n",
    "min_landmass_name = \"\"\n",
    "max_landmass_name = \"\"\n",
    "landmass_sum = 0\n",
    "\n",
    "for row in data:\n",
    "    value = row[1]\n",
    "    country = row[0]\n",
    "    min_landmass = min(value, min_landmass)\n",
    "    max_landmass = max(value, min_landmass)\n",
    "    landmass_sum += value\n",
    "    if min_landmass == value:\n",
    "        min_landmass_name = country\n",
    "    elif max_landmass == value:\n",
    "        max_landmass_name = country\n",
    "\n",
    "average_landmass = landmass_sum / len(data)\n",
    "\n",
    "print(min_landmass_name, \"has the smallest landmass of\", min_landmass)\n",
    "print(max_landmass_name, \"has the largest landmass of\", max_landmass)\n",
    "print(\"The average landmass size is\", average_landmass)"
   ]
  },
  {
   "cell_type": "code",
   "execution_count": 13,
   "id": "4a4705aa-295a-4843-a30a-131f674eb6e9",
   "metadata": {},
   "outputs": [
    {
     "name": "stdin",
     "output_type": "stream",
     "text": [
      "Please input landmass name a\n"
     ]
    },
    {
     "name": "stdout",
     "output_type": "stream",
     "text": [
      "The area of a is 2\n"
     ]
    }
   ],
   "source": [
    "# Allow the user to search for a landmass name and print its area.\n",
    "\n",
    "country = input(\"Please input landmass name\")\n",
    "\n",
    "for i, row in enumerate(data):\n",
    "    if country.lower() == row[0].lower():\n",
    "        print(\"The area of\", row[0], \"is\", row[1])\n",
    "        break"
   ]
  },
  {
   "cell_type": "code",
   "execution_count": 5,
   "id": "28cbbca4-88eb-4146-91c8-9977a012ac92",
   "metadata": {},
   "outputs": [],
   "source": [
    "# Sort the array according to its area in descending order\n",
    "\n",
    "data.sort(reverse=True, key=lambda x: x[1])"
   ]
  },
  {
   "cell_type": "code",
   "execution_count": 6,
   "id": "eeb206a3-a265-40d3-8025-2020adf19447",
   "metadata": {},
   "outputs": [
    {
     "name": "stdout",
     "output_type": "stream",
     "text": [
      "[['Asia', 16988],\n",
      " ['Africa', 11506],\n",
      " ['North America', 9390],\n",
      " ['South America', 6795],\n",
      " ['Antarctica', 5500],\n",
      " ['Europe', 3745],\n",
      " ['Australia', 2968],\n",
      " ['Greenland', 840],\n",
      " ['New Guinea', 306],\n",
      " ['Borneo', 280],\n",
      " ['Madagascar', 227],\n",
      " ['Baffin', 184],\n",
      " ['Sumatra', 183],\n",
      " ['Honshu', 89],\n",
      " ['Britain', 84],\n",
      " ['Ellesmere', 82],\n",
      " ['Victoria', 82],\n",
      " ['Celebes', 73],\n",
      " ['New Zealand (S)', 58],\n",
      " ['Java', 49],\n",
      " ['New Zealand (N)', 44],\n",
      " ['Cuba', 43],\n",
      " ['Newfoundland', 43],\n",
      " ['Luzon', 42],\n",
      " ['Iceland', 40],\n",
      " ['Mindanao', 36],\n",
      " ['Ireland', 33],\n",
      " ['Novaya Zemlya', 32],\n",
      " ['Hispaniola', 30],\n",
      " ['Hokkaido', 30],\n",
      " ['Moluccas', 29],\n",
      " ['Sakhalin', 29],\n",
      " ['Tasmania', 26],\n",
      " ['Celon', 25],\n",
      " ['Banks', 23],\n",
      " ['Devon', 21],\n",
      " ['Tierra del Fuego', 19],\n",
      " ['Axel Heiberg', 16],\n",
      " ['Melville', 16],\n",
      " ['Southampton', 16],\n",
      " ['New Britain', 15],\n",
      " ['Spitsbergen', 15],\n",
      " ['Kyushu', 14],\n",
      " ['Taiwan', 14],\n",
      " ['Hainan', 13],\n",
      " ['Prince of Wales', 13],\n",
      " ['Timor', 13],\n",
      " ['Vancouver', 12]]\n"
     ]
    }
   ],
   "source": [
    "# Print the array after have been sorted.\n",
    "\n",
    "pprint.pprint(data)  "
   ]
  },
  {
   "cell_type": "code",
   "execution_count": 9,
   "id": "5c23d015-dd98-4216-9d48-d5b7452f73a0",
   "metadata": {},
   "outputs": [
    {
     "name": "stdin",
     "output_type": "stream",
     "text": [
      "Type a landmass or type quit to stop aaa\n",
      "Type the integer area of aaa 22\n",
      "Type a landmass or type quit to stop a\n",
      "Type the integer area of a 2\n",
      "Type a landmass or type quit to stop aa\n",
      "Type the integer area of aa 3\n"
     ]
    },
    {
     "name": "stdout",
     "output_type": "stream",
     "text": [
      "[['Asia', 16988],\n",
      " ['Africa', 11506],\n",
      " ['North America', 9390],\n",
      " ['South America', 6795],\n",
      " ['Antarctica', 5500],\n",
      " ['Europe', 3745],\n",
      " ['Australia', 2968],\n",
      " ['Greenland', 840],\n",
      " ['New Guinea', 306],\n",
      " ['Borneo', 280],\n",
      " ['Madagascar', 227],\n",
      " ['Baffin', 184],\n",
      " ['Sumatra', 183],\n",
      " ['Honshu', 89],\n",
      " ['Britain', 84],\n",
      " ['Ellesmere', 82],\n",
      " ['Victoria', 82],\n",
      " ['Celebes', 73],\n",
      " ['New Zealand (S)', 58],\n",
      " ['Java', 49],\n",
      " ['New Zealand (N)', 44],\n",
      " ['Cuba', 43],\n",
      " ['Newfoundland', 43],\n",
      " ['Luzon', 42],\n",
      " ['Iceland', 40],\n",
      " ['Mindanao', 36],\n",
      " ['Ireland', 33],\n",
      " ['Novaya Zemlya', 32],\n",
      " ['Hispaniola', 30],\n",
      " ['Hokkaido', 30],\n",
      " ['Moluccas', 29],\n",
      " ['Sakhalin', 29],\n",
      " ['Tasmania', 26],\n",
      " ['Celon', 25],\n",
      " ['Banks', 23],\n",
      " ['aaa', 22],\n",
      " ['aaa', 22],\n",
      " ['Devon', 21],\n",
      " ['Tierra del Fuego', 19],\n",
      " ['Axel Heiberg', 16],\n",
      " ['Melville', 16],\n",
      " ['Southampton', 16],\n",
      " ['New Britain', 15],\n",
      " ['Spitsbergen', 15],\n",
      " ['Kyushu', 14],\n",
      " ['Taiwan', 14],\n",
      " ['Hainan', 13],\n",
      " ['Prince of Wales', 13],\n",
      " ['Timor', 13],\n",
      " ['Vancouver', 12],\n",
      " ['aa', 3],\n",
      " ['a', 2]]\n"
     ]
    }
   ],
   "source": [
    "# Allow the user to add up to the other three landmasses and insert them into the list while you must keep the data sorted in the array\n",
    "\n",
    "for i in range(3):\n",
    "    country = input(\"Type a landmass or type quit to stop\")\n",
    "    if country.lower() == \"quit\":\n",
    "        break\n",
    "    area = int(input(\"Type the integer area of \" + country))\n",
    "\n",
    "    for i, row in enumerate(data):\n",
    "        if row[1] < area:\n",
    "            data.insert(i, [country, area])\n",
    "            break\n",
    "        elif i == len(data) - 1:\n",
    "            data.append([country, area])\n",
    "            break\n",
    "\n",
    "pprint.pprint(data)"
   ]
  }
 ],
 "metadata": {
  "kernelspec": {
   "display_name": "Python 3 (ipykernel)",
   "language": "python",
   "name": "python3"
  },
  "language_info": {
   "codemirror_mode": {
    "name": "ipython",
    "version": 3
   },
   "file_extension": ".py",
   "mimetype": "text/x-python",
   "name": "python",
   "nbconvert_exporter": "python",
   "pygments_lexer": "ipython3",
   "version": "3.13.1"
  }
 },
 "nbformat": 4,
 "nbformat_minor": 5
}
